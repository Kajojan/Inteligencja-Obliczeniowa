{
 "cells": [
  {
   "cell_type": "markdown",
   "id": "7d8f5b48",
   "metadata": {},
   "source": [
    "# Thyroid Diseases"
   ]
  },
  {
   "cell_type": "markdown",
   "id": "dba4787a",
   "metadata": {},
   "source": [
    "Kajetan jankowski"
   ]
  },
  {
   "cell_type": "markdown",
   "id": "7f3e37ad",
   "metadata": {},
   "source": [
    "## Wstep"
   ]
  },
  {
   "cell_type": "markdown",
   "id": "a391c8ce",
   "metadata": {},
   "source": [
    "Wybrałem baze danych posiadająca informacje o chorobach tarczycy. Baza danych posiada 8795 wierszu oraz 28 kulumn, zawiera mniedzy informacje o wieku, płóci,czy pacjęt bierze leki, oraz kolumne \"target\" - podająca wynik. Diagnoza składa się z ciągu liter oznaczających zdiagnozowane stany.Diagnoza „-” wskazuje, że stan nie wymaga komentarza. Diagnoza tzw forma „X|Y” jest interpretowana jako „zgodna z X, ale bardziej prawdopodobna Y”. Warunki są podzielone na grupy, gdzie każda grupa odpowiada klasie uwagi:\n",
    "\n",
    "hyperthyroid conditions:\n",
    "\n",
    "    A   hyperthyroid\n",
    "    B   T3 toxic\n",
    "    C   toxic goitre\n",
    "    D   secondary toxic\n",
    "\n",
    "    hypothyroid conditions:\n",
    "\n",
    "    E   hypothyroid\n",
    "    F   primary hypothyroid\n",
    "    G   compensated hypothyroid\n",
    "    H   secondary hypothyroid\n",
    "\n",
    "    binding protein:\n",
    "\n",
    "    I   increased binding protein\n",
    "    J   decreased binding protein\n",
    "\n",
    "    general health:\n",
    "\n",
    "    K   concurrent non-thyroidal illness\n",
    "\n",
    "    replacement therapy:\n",
    "\n",
    "    L   consistent with replacement therapy\n",
    "    M   underreplaced\n",
    "    N   overreplaced\n",
    "\n",
    "    antithyroid treatment:\n",
    "\n",
    "    O   antithyroid drugs\n",
    "    P   I131 treatment\n",
    "    Q   surgery\n",
    "\n",
    "    miscellaneous:\n",
    "\n",
    "    R   discordant assay results\n",
    "    S   elevated TBG\n",
    "    T   elevated thyroid hormones\n",
    "\n"
   ]
  },
  {
   "cell_type": "code",
   "execution_count": null,
   "id": "7ec06f2f",
   "metadata": {},
   "outputs": [],
   "source": []
  }
 ],
 "metadata": {
  "kernelspec": {
   "display_name": "Python 3 (ipykernel)",
   "language": "python",
   "name": "python3"
  },
  "language_info": {
   "codemirror_mode": {
    "name": "ipython",
    "version": 3
   },
   "file_extension": ".py",
   "mimetype": "text/x-python",
   "name": "python",
   "nbconvert_exporter": "python",
   "pygments_lexer": "ipython3",
   "version": "3.10.6"
  }
 },
 "nbformat": 4,
 "nbformat_minor": 5
}
