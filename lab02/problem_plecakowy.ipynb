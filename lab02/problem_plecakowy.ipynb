{
 "cells": [
  {
   "cell_type": "code",
   "execution_count": 1,
   "metadata": {},
   "outputs": [],
   "source": [
    "import pygad\n",
    "import numpy\n",
    "\n",
    "gene_space = [0, 1]\n",
    "\n",
    "\n",
    "items = [{'item': 'zegar', 'value': 100, 'weight': 7},\n",
    "         {'item': 'obraz-pejzaż', 'value': 300, 'weight': 7},\n",
    "         {'item': 'obraz-portret', 'value': 200, 'weight': 6},\n",
    "         {'item': 'radio', 'value': 40, 'weight': 2},\n",
    "         {'item': 'laptop', 'value': 500, 'weight': 5},\n",
    "         {'item': 'lampka nocna', 'value': 70, 'weight': 6},\n",
    "         {'item': 'srebrne sztućce', 'value': 100, 'weight': 1},\n",
    "         {'item': 'porcelana', 'value': 250, 'weight': 3},\n",
    "         {'item': 'figura z brązu', 'value': 300, 'weight': 10},\n",
    "         {'item': 'skórzana torebka', 'value': 280, 'weight': 3},\n",
    "         {'item': 'odkurzacz', 'value': 300, 'weight': 15}]"
   ]
  },
  {
   "attachments": {},
   "cell_type": "markdown",
   "metadata": {},
   "source": []
  }
 ],
 "metadata": {
  "kernelspec": {
   "display_name": "Python 3",
   "language": "python",
   "name": "python3"
  },
  "language_info": {
   "codemirror_mode": {
    "name": "ipython",
    "version": 3
   },
   "file_extension": ".py",
   "mimetype": "text/x-python",
   "name": "python",
   "nbconvert_exporter": "python",
   "pygments_lexer": "ipython3",
   "version": "3.10.6"
  },
  "orig_nbformat": 4,
  "vscode": {
   "interpreter": {
    "hash": "31f2aee4e71d21fbe5cf8b01ff0e069b9275f58929596ceb00d14d90e3e16cd6"
   }
  }
 },
 "nbformat": 4,
 "nbformat_minor": 2
}
